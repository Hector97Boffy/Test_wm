{
 "cells": [
  {
   "attachments": {},
   "cell_type": "markdown",
   "metadata": {},
   "source": [
    "## Test de Python\n",
    "Evalaur si las tiendas Nuevas mejoran en comparación con las Viejas. Se aplicó una nueva forma en la cual siempre se obtiene descuento extra en el ticket de compra. Se busca ver si en efecto, esta estrategia comercial promueve un mayor ticket promedio de venta, venta neta y en comparación con las otras tiendas se obtienen mayores beneficios"
   ]
  },
  {
   "cell_type": "code",
   "execution_count": 2,
   "metadata": {},
   "outputs": [],
   "source": [
    "#Importamos las librerias necesarias para poder hacer el análisis\n",
    "import pandas as pd\n",
    "import seaborn as sns # Para plotting\n",
    "import matplotlib.pyplot as plt # Para plotting\n",
    "import numpy as np"
   ]
  },
  {
   "cell_type": "code",
   "execution_count": 3,
   "metadata": {},
   "outputs": [
    {
     "data": {
      "text/html": [
       "<div>\n",
       "<style scoped>\n",
       "    .dataframe tbody tr th:only-of-type {\n",
       "        vertical-align: middle;\n",
       "    }\n",
       "\n",
       "    .dataframe tbody tr th {\n",
       "        vertical-align: top;\n",
       "    }\n",
       "\n",
       "    .dataframe thead th {\n",
       "        text-align: right;\n",
       "    }\n",
       "</style>\n",
       "<table border=\"1\" class=\"dataframe\">\n",
       "  <thead>\n",
       "    <tr style=\"text-align: right;\">\n",
       "      <th></th>\n",
       "      <th>ID</th>\n",
       "      <th>Tienda</th>\n",
       "      <th>Tipo Tienda</th>\n",
       "      <th>Numero de Productos</th>\n",
       "      <th>Venta</th>\n",
       "      <th>Descuento</th>\n",
       "    </tr>\n",
       "  </thead>\n",
       "  <tbody>\n",
       "    <tr>\n",
       "      <th>0</th>\n",
       "      <td>1</td>\n",
       "      <td>Playa del Carmen ? 100</td>\n",
       "      <td>Nueva</td>\n",
       "      <td>3</td>\n",
       "      <td>59.99</td>\n",
       "      <td>9.99</td>\n",
       "    </tr>\n",
       "    <tr>\n",
       "      <th>1</th>\n",
       "      <td>2</td>\n",
       "      <td>CDMX ? 35</td>\n",
       "      <td>Vieja</td>\n",
       "      <td>1</td>\n",
       "      <td>25.00</td>\n",
       "      <td>2.50</td>\n",
       "    </tr>\n",
       "    <tr>\n",
       "      <th>2</th>\n",
       "      <td>3</td>\n",
       "      <td>Chihuahua ? 71</td>\n",
       "      <td>Vieja</td>\n",
       "      <td>4</td>\n",
       "      <td>84.50</td>\n",
       "      <td>0.00</td>\n",
       "    </tr>\n",
       "    <tr>\n",
       "      <th>3</th>\n",
       "      <td>4</td>\n",
       "      <td>CDMX ? 35</td>\n",
       "      <td>Vieja</td>\n",
       "      <td>2</td>\n",
       "      <td>30.00</td>\n",
       "      <td>0.00</td>\n",
       "    </tr>\n",
       "    <tr>\n",
       "      <th>4</th>\n",
       "      <td>5</td>\n",
       "      <td>CDMX ? 35</td>\n",
       "      <td>Vieja</td>\n",
       "      <td>10</td>\n",
       "      <td>150.00</td>\n",
       "      <td>0.00</td>\n",
       "    </tr>\n",
       "  </tbody>\n",
       "</table>\n",
       "</div>"
      ],
      "text/plain": [
       "   ID                  Tienda Tipo Tienda  Numero de Productos   Venta  \\\n",
       "0   1  Playa del Carmen ? 100       Nueva                    3   59.99   \n",
       "1   2               CDMX ? 35       Vieja                    1   25.00   \n",
       "2   3          Chihuahua ? 71       Vieja                    4   84.50   \n",
       "3   4               CDMX ? 35       Vieja                    2   30.00   \n",
       "4   5               CDMX ? 35       Vieja                   10  150.00   \n",
       "\n",
       "   Descuento  \n",
       "0       9.99  \n",
       "1       2.50  \n",
       "2       0.00  \n",
       "3       0.00  \n",
       "4       0.00  "
      ]
     },
     "execution_count": 3,
     "metadata": {},
     "output_type": "execute_result"
    }
   ],
   "source": [
    "#Cargar los datos en un Dataframe\n",
    "df = pd.read_csv(\"test.csv\") \n",
    "df.head()#Vemos como se compone nuestra tabla relacional"
   ]
  },
  {
   "cell_type": "code",
   "execution_count": 4,
   "metadata": {},
   "outputs": [
    {
     "data": {
      "text/html": [
       "<div>\n",
       "<style scoped>\n",
       "    .dataframe tbody tr th:only-of-type {\n",
       "        vertical-align: middle;\n",
       "    }\n",
       "\n",
       "    .dataframe tbody tr th {\n",
       "        vertical-align: top;\n",
       "    }\n",
       "\n",
       "    .dataframe thead th {\n",
       "        text-align: right;\n",
       "    }\n",
       "</style>\n",
       "<table border=\"1\" class=\"dataframe\">\n",
       "  <thead>\n",
       "    <tr style=\"text-align: right;\">\n",
       "      <th></th>\n",
       "      <th>ID</th>\n",
       "      <th>Tienda</th>\n",
       "      <th>Tipo Tienda</th>\n",
       "      <th>Numero de Productos</th>\n",
       "      <th>Venta</th>\n",
       "      <th>Descuento</th>\n",
       "      <th>Ticket_Promedio</th>\n",
       "      <th>Venta_neta</th>\n",
       "    </tr>\n",
       "  </thead>\n",
       "  <tbody>\n",
       "    <tr>\n",
       "      <th>0</th>\n",
       "      <td>1</td>\n",
       "      <td>Playa del Carmen ? 100</td>\n",
       "      <td>Nueva</td>\n",
       "      <td>3</td>\n",
       "      <td>59.99</td>\n",
       "      <td>9.99</td>\n",
       "      <td>19.996667</td>\n",
       "      <td>50.0</td>\n",
       "    </tr>\n",
       "    <tr>\n",
       "      <th>1</th>\n",
       "      <td>2</td>\n",
       "      <td>CDMX ? 35</td>\n",
       "      <td>Vieja</td>\n",
       "      <td>1</td>\n",
       "      <td>25.00</td>\n",
       "      <td>2.50</td>\n",
       "      <td>25.000000</td>\n",
       "      <td>22.5</td>\n",
       "    </tr>\n",
       "    <tr>\n",
       "      <th>2</th>\n",
       "      <td>3</td>\n",
       "      <td>Chihuahua ? 71</td>\n",
       "      <td>Vieja</td>\n",
       "      <td>4</td>\n",
       "      <td>84.50</td>\n",
       "      <td>0.00</td>\n",
       "      <td>21.125000</td>\n",
       "      <td>84.5</td>\n",
       "    </tr>\n",
       "    <tr>\n",
       "      <th>3</th>\n",
       "      <td>4</td>\n",
       "      <td>CDMX ? 35</td>\n",
       "      <td>Vieja</td>\n",
       "      <td>2</td>\n",
       "      <td>30.00</td>\n",
       "      <td>0.00</td>\n",
       "      <td>15.000000</td>\n",
       "      <td>30.0</td>\n",
       "    </tr>\n",
       "    <tr>\n",
       "      <th>4</th>\n",
       "      <td>5</td>\n",
       "      <td>CDMX ? 35</td>\n",
       "      <td>Vieja</td>\n",
       "      <td>10</td>\n",
       "      <td>150.00</td>\n",
       "      <td>0.00</td>\n",
       "      <td>15.000000</td>\n",
       "      <td>150.0</td>\n",
       "    </tr>\n",
       "  </tbody>\n",
       "</table>\n",
       "</div>"
      ],
      "text/plain": [
       "   ID                  Tienda Tipo Tienda  Numero de Productos   Venta  \\\n",
       "0   1  Playa del Carmen ? 100       Nueva                    3   59.99   \n",
       "1   2               CDMX ? 35       Vieja                    1   25.00   \n",
       "2   3          Chihuahua ? 71       Vieja                    4   84.50   \n",
       "3   4               CDMX ? 35       Vieja                    2   30.00   \n",
       "4   5               CDMX ? 35       Vieja                   10  150.00   \n",
       "\n",
       "   Descuento  Ticket_Promedio  Venta_neta  \n",
       "0       9.99        19.996667        50.0  \n",
       "1       2.50        25.000000        22.5  \n",
       "2       0.00        21.125000        84.5  \n",
       "3       0.00        15.000000        30.0  \n",
       "4       0.00        15.000000       150.0  "
      ]
     },
     "execution_count": 4,
     "metadata": {},
     "output_type": "execute_result"
    }
   ],
   "source": [
    "#Obtenemos el ticket promedio\n",
    "df['Ticket_Promedio']= df['Venta']/df['Numero de Productos']\n",
    "#Obtenemos la venta neta\n",
    "df['Venta_neta']=df['Venta']-df['Descuento']\n",
    "#Observamos los resultados\n",
    "df.head()\n",
    "\n"
   ]
  },
  {
   "cell_type": "code",
   "execution_count": 5,
   "metadata": {},
   "outputs": [
    {
     "data": {
      "text/plain": [
       "Tipo Tienda\n",
       "Nueva    21\n",
       "Vieja    45\n",
       "dtype: int64"
      ]
     },
     "execution_count": 5,
     "metadata": {},
     "output_type": "execute_result"
    }
   ],
   "source": [
    "#Definimos entre tiendas nuevas y viejas\n",
    "tiendas_nuevas = df[df['Tipo Tienda'] == 'Nueva']\n",
    "tiendas_viejas = df[df['Tipo Tienda'] == 'Vieja']\n",
    "\n",
    "#Observamos el numero de tiendas por tipo\n",
    "df.groupby(['Tipo Tienda']).size()\n"
   ]
  },
  {
   "cell_type": "code",
   "execution_count": 7,
   "metadata": {},
   "outputs": [
    {
     "data": {
      "text/html": [
       "<div>\n",
       "<style scoped>\n",
       "    .dataframe tbody tr th:only-of-type {\n",
       "        vertical-align: middle;\n",
       "    }\n",
       "\n",
       "    .dataframe tbody tr th {\n",
       "        vertical-align: top;\n",
       "    }\n",
       "\n",
       "    .dataframe thead th {\n",
       "        text-align: right;\n",
       "    }\n",
       "</style>\n",
       "<table border=\"1\" class=\"dataframe\">\n",
       "  <thead>\n",
       "    <tr style=\"text-align: right;\">\n",
       "      <th></th>\n",
       "      <th>ID</th>\n",
       "      <th>Numero de Productos</th>\n",
       "      <th>Venta</th>\n",
       "      <th>Descuento</th>\n",
       "      <th>Ticket_Promedio</th>\n",
       "      <th>Venta_neta</th>\n",
       "    </tr>\n",
       "  </thead>\n",
       "  <tbody>\n",
       "    <tr>\n",
       "      <th>count</th>\n",
       "      <td>45.000000</td>\n",
       "      <td>45.000000</td>\n",
       "      <td>45.000000</td>\n",
       "      <td>45.000000</td>\n",
       "      <td>45.000000</td>\n",
       "      <td>45.000000</td>\n",
       "    </tr>\n",
       "    <tr>\n",
       "      <th>mean</th>\n",
       "      <td>28.266667</td>\n",
       "      <td>5.822222</td>\n",
       "      <td>135.247075</td>\n",
       "      <td>18.463586</td>\n",
       "      <td>53.512856</td>\n",
       "      <td>116.783490</td>\n",
       "    </tr>\n",
       "    <tr>\n",
       "      <th>std</th>\n",
       "      <td>15.388012</td>\n",
       "      <td>7.104061</td>\n",
       "      <td>213.394365</td>\n",
       "      <td>74.074896</td>\n",
       "      <td>220.575405</td>\n",
       "      <td>142.191701</td>\n",
       "    </tr>\n",
       "    <tr>\n",
       "      <th>min</th>\n",
       "      <td>2.000000</td>\n",
       "      <td>1.000000</td>\n",
       "      <td>15.000000</td>\n",
       "      <td>0.000000</td>\n",
       "      <td>4.000000</td>\n",
       "      <td>15.000000</td>\n",
       "    </tr>\n",
       "    <tr>\n",
       "      <th>25%</th>\n",
       "      <td>13.000000</td>\n",
       "      <td>3.000000</td>\n",
       "      <td>79.943979</td>\n",
       "      <td>0.000000</td>\n",
       "      <td>18.953862</td>\n",
       "      <td>79.943979</td>\n",
       "    </tr>\n",
       "    <tr>\n",
       "      <th>50%</th>\n",
       "      <td>30.000000</td>\n",
       "      <td>5.000000</td>\n",
       "      <td>108.628296</td>\n",
       "      <td>0.000000</td>\n",
       "      <td>21.125000</td>\n",
       "      <td>90.000000</td>\n",
       "    </tr>\n",
       "    <tr>\n",
       "      <th>75%</th>\n",
       "      <td>41.000000</td>\n",
       "      <td>7.000000</td>\n",
       "      <td>134.201682</td>\n",
       "      <td>13.532217</td>\n",
       "      <td>23.320705</td>\n",
       "      <td>121.789956</td>\n",
       "    </tr>\n",
       "    <tr>\n",
       "      <th>max</th>\n",
       "      <td>52.000000</td>\n",
       "      <td>50.000000</td>\n",
       "      <td>1500.000000</td>\n",
       "      <td>500.000000</td>\n",
       "      <td>1500.000000</td>\n",
       "      <td>1000.000000</td>\n",
       "    </tr>\n",
       "  </tbody>\n",
       "</table>\n",
       "</div>"
      ],
      "text/plain": [
       "              ID  Numero de Productos        Venta   Descuento  \\\n",
       "count  45.000000            45.000000    45.000000   45.000000   \n",
       "mean   28.266667             5.822222   135.247075   18.463586   \n",
       "std    15.388012             7.104061   213.394365   74.074896   \n",
       "min     2.000000             1.000000    15.000000    0.000000   \n",
       "25%    13.000000             3.000000    79.943979    0.000000   \n",
       "50%    30.000000             5.000000   108.628296    0.000000   \n",
       "75%    41.000000             7.000000   134.201682   13.532217   \n",
       "max    52.000000            50.000000  1500.000000  500.000000   \n",
       "\n",
       "       Ticket_Promedio   Venta_neta  \n",
       "count        45.000000    45.000000  \n",
       "mean         53.512856   116.783490  \n",
       "std         220.575405   142.191701  \n",
       "min           4.000000    15.000000  \n",
       "25%          18.953862    79.943979  \n",
       "50%          21.125000    90.000000  \n",
       "75%          23.320705   121.789956  \n",
       "max        1500.000000  1000.000000  "
      ]
     },
     "execution_count": 7,
     "metadata": {},
     "output_type": "execute_result"
    }
   ],
   "source": [
    "#Nos damos un panorama \n",
    "tiendas_viejas.describe()"
   ]
  },
  {
   "cell_type": "code",
   "execution_count": 78,
   "metadata": {},
   "outputs": [
    {
     "data": {
      "text/html": [
       "<div>\n",
       "<style scoped>\n",
       "    .dataframe tbody tr th:only-of-type {\n",
       "        vertical-align: middle;\n",
       "    }\n",
       "\n",
       "    .dataframe tbody tr th {\n",
       "        vertical-align: top;\n",
       "    }\n",
       "\n",
       "    .dataframe thead th {\n",
       "        text-align: right;\n",
       "    }\n",
       "</style>\n",
       "<table border=\"1\" class=\"dataframe\">\n",
       "  <thead>\n",
       "    <tr style=\"text-align: right;\">\n",
       "      <th></th>\n",
       "      <th>ID</th>\n",
       "      <th>Numero de Productos</th>\n",
       "      <th>Venta</th>\n",
       "      <th>Descuento</th>\n",
       "      <th>Ticket_Promedio</th>\n",
       "      <th>Venta_neta</th>\n",
       "    </tr>\n",
       "  </thead>\n",
       "  <tbody>\n",
       "    <tr>\n",
       "      <th>count</th>\n",
       "      <td>45.000000</td>\n",
       "      <td>45.000000</td>\n",
       "      <td>45.000000</td>\n",
       "      <td>45.000000</td>\n",
       "      <td>45.000000</td>\n",
       "      <td>45.000000</td>\n",
       "    </tr>\n",
       "    <tr>\n",
       "      <th>mean</th>\n",
       "      <td>28.266667</td>\n",
       "      <td>5.822222</td>\n",
       "      <td>135.247075</td>\n",
       "      <td>18.463586</td>\n",
       "      <td>53.512856</td>\n",
       "      <td>116.783490</td>\n",
       "    </tr>\n",
       "    <tr>\n",
       "      <th>std</th>\n",
       "      <td>15.388012</td>\n",
       "      <td>7.104061</td>\n",
       "      <td>213.394365</td>\n",
       "      <td>74.074896</td>\n",
       "      <td>220.575405</td>\n",
       "      <td>142.191701</td>\n",
       "    </tr>\n",
       "    <tr>\n",
       "      <th>min</th>\n",
       "      <td>2.000000</td>\n",
       "      <td>1.000000</td>\n",
       "      <td>15.000000</td>\n",
       "      <td>0.000000</td>\n",
       "      <td>4.000000</td>\n",
       "      <td>15.000000</td>\n",
       "    </tr>\n",
       "    <tr>\n",
       "      <th>25%</th>\n",
       "      <td>13.000000</td>\n",
       "      <td>3.000000</td>\n",
       "      <td>79.943979</td>\n",
       "      <td>0.000000</td>\n",
       "      <td>18.953862</td>\n",
       "      <td>79.943979</td>\n",
       "    </tr>\n",
       "    <tr>\n",
       "      <th>50%</th>\n",
       "      <td>30.000000</td>\n",
       "      <td>5.000000</td>\n",
       "      <td>108.628296</td>\n",
       "      <td>0.000000</td>\n",
       "      <td>21.125000</td>\n",
       "      <td>90.000000</td>\n",
       "    </tr>\n",
       "    <tr>\n",
       "      <th>75%</th>\n",
       "      <td>41.000000</td>\n",
       "      <td>7.000000</td>\n",
       "      <td>134.201682</td>\n",
       "      <td>13.532217</td>\n",
       "      <td>23.320705</td>\n",
       "      <td>121.789956</td>\n",
       "    </tr>\n",
       "    <tr>\n",
       "      <th>max</th>\n",
       "      <td>52.000000</td>\n",
       "      <td>50.000000</td>\n",
       "      <td>1500.000000</td>\n",
       "      <td>500.000000</td>\n",
       "      <td>1500.000000</td>\n",
       "      <td>1000.000000</td>\n",
       "    </tr>\n",
       "  </tbody>\n",
       "</table>\n",
       "</div>"
      ],
      "text/plain": [
       "              ID  Numero de Productos        Venta   Descuento  \\\n",
       "count  45.000000            45.000000    45.000000   45.000000   \n",
       "mean   28.266667             5.822222   135.247075   18.463586   \n",
       "std    15.388012             7.104061   213.394365   74.074896   \n",
       "min     2.000000             1.000000    15.000000    0.000000   \n",
       "25%    13.000000             3.000000    79.943979    0.000000   \n",
       "50%    30.000000             5.000000   108.628296    0.000000   \n",
       "75%    41.000000             7.000000   134.201682   13.532217   \n",
       "max    52.000000            50.000000  1500.000000  500.000000   \n",
       "\n",
       "       Ticket_Promedio   Venta_neta  \n",
       "count        45.000000    45.000000  \n",
       "mean         53.512856   116.783490  \n",
       "std         220.575405   142.191701  \n",
       "min           4.000000    15.000000  \n",
       "25%          18.953862    79.943979  \n",
       "50%          21.125000    90.000000  \n",
       "75%          23.320705   121.789956  \n",
       "max        1500.000000  1000.000000  "
      ]
     },
     "execution_count": 78,
     "metadata": {},
     "output_type": "execute_result"
    }
   ],
   "source": [
    "tiendas_viejas.describe()"
   ]
  },
  {
   "cell_type": "code",
   "execution_count": 91,
   "metadata": {},
   "outputs": [
    {
     "name": "stderr",
     "output_type": "stream",
     "text": [
      "C:\\Users\\casta\\AppData\\Local\\Temp\\ipykernel_17996\\353352372.py:2: UserWarning: \n",
      "\n",
      "`distplot` is a deprecated function and will be removed in seaborn v0.14.0.\n",
      "\n",
      "Please adapt your code to use either `displot` (a figure-level function with\n",
      "similar flexibility) or `kdeplot` (an axes-level function for kernel density plots).\n",
      "\n",
      "For a guide to updating your code to use the new functions, please see\n",
      "https://gist.github.com/mwaskom/de44147ed2974457ad6372750bbe5751\n",
      "\n",
      "  sns.distplot(tiendas_nuevas[\"Venta_neta\"],hist=False,label='Tiendas nuevas').set_title(\"Gráfica de Ventas Netas\")\n",
      "C:\\Users\\casta\\AppData\\Local\\Temp\\ipykernel_17996\\353352372.py:3: UserWarning: \n",
      "\n",
      "`distplot` is a deprecated function and will be removed in seaborn v0.14.0.\n",
      "\n",
      "Please adapt your code to use either `displot` (a figure-level function with\n",
      "similar flexibility) or `kdeplot` (an axes-level function for kernel density plots).\n",
      "\n",
      "For a guide to updating your code to use the new functions, please see\n",
      "https://gist.github.com/mwaskom/de44147ed2974457ad6372750bbe5751\n",
      "\n",
      "  sns.distplot(tiendas_viejas[\"Venta_neta\"],hist=False,label='Tiendas viejas')\n"
     ]
    },
    {
     "data": {
      "text/plain": [
       "<matplotlib.legend.Legend at 0x1b5c88f3af0>"
      ]
     },
     "execution_count": 91,
     "metadata": {},
     "output_type": "execute_result"
    },
    {
     "data": {
      "image/png": "[encoded data removed]",
      "text/plain": [
       "<Figure size 640x480 with 1 Axes>"
      ]
     },
     "metadata": {},
     "output_type": "display_data"
    }
   ],
   "source": [
    "#Densidad en la ventas\n",
    "sns.distplot(tiendas_nuevas[\"Venta_neta\"],hist=False,label='Tiendas nuevas').set_title(\"Gráfica de Ventas Netas\")\n",
    "sns.distplot(tiendas_viejas[\"Venta_neta\"],hist=False,label='Tiendas viejas')\n",
    "plt.legend()"
   ]
  },
  {
   "cell_type": "code",
   "execution_count": 92,
   "metadata": {},
   "outputs": [
    {
     "data": {
      "text/plain": [
       "<seaborn.axisgrid.FacetGrid at 0x1b5c8928b20>"
      ]
     },
     "execution_count": 92,
     "metadata": {},
     "output_type": "execute_result"
    },
    {
     "data": {
      "image/png": "[encoded data removed]",
      "text/plain": [
       "<Figure size 500x500 with 1 Axes>"
      ]
     },
     "metadata": {},
     "output_type": "display_data"
    }
   ],
   "source": [
    "#Densidad en tipo de tienda por Ticket Promedio\n",
    "sns.catplot(data=df, kind=\"bar\", x=\"Tipo Tienda\", y=\"Ticket_Promedio\")"
   ]
  },
  {
   "attachments": {},
   "cell_type": "markdown",
   "metadata": {},
   "source": [
    "### Gráfica de Barras\n",
    "Hacer una gráfica de barras para las 3 tiendas con la primera barra de la Venta Neta, la segunda de Descuento, con lo que ambas dan la Venta"
   ]
  },
  {
   "cell_type": "code",
   "execution_count": 11,
   "metadata": {},
   "outputs": [
    {
     "data": {
      "text/plain": [
       "Tienda\n",
       "CDMX ? 35                 2898.577884\n",
       "Chihuahua ? 71            2356.679154\n",
       "Playa del Carmen ? 100    6130.305364\n",
       "Name: Venta_neta, dtype: float64"
      ]
     },
     "execution_count": 11,
     "metadata": {},
     "output_type": "execute_result"
    }
   ],
   "source": [
    "#Debemos de agrupar por tienda y sumar las ventas netas\n",
    "venta_n=df.groupby('Tienda')['Venta_neta'].sum()\n",
    "venta_n.head() #Observamos el resultado"
   ]
  },
  {
   "cell_type": "code",
   "execution_count": 12,
   "metadata": {},
   "outputs": [
    {
     "data": {
      "text/plain": [
       "Tienda\n",
       "CDMX ? 35                  646.038449\n",
       "Chihuahua ? 71             184.822907\n",
       "Playa del Carmen ? 100    1416.575735\n",
       "Name: Descuento, dtype: float64"
      ]
     },
     "execution_count": 12,
     "metadata": {},
     "output_type": "execute_result"
    }
   ],
   "source": [
    "#Agrupamos por tienda sumamos los descuentos\n",
    "descuento_n=df.groupby('Tienda')['Descuento'].sum()\n",
    "descuento_n.head() #Observamos el resultado"
   ]
  },
  {
   "cell_type": "code",
   "execution_count": 13,
   "metadata": {},
   "outputs": [
    {
     "data": {
      "text/plain": [
       "<matplotlib.legend.Legend at 0x1b5b94d5c60>"
      ]
     },
     "execution_count": 13,
     "metadata": {},
     "output_type": "execute_result"
    },
    {
     "data": {
      "image/png": "[encoded data removed]",
      "text/plain": [
       "<Figure size 640x480 with 1 Axes>"
      ]
     },
     "metadata": {},
     "output_type": "display_data"
    }
   ],
   "source": [
    "#Creamos la figura con la libreria Matplotlib\n",
    "fig, ax = plt.subplots()\n",
    "\n",
    "#Con la figura asignada, le pedimos que sea de barra, agregamos .index como lista de las tiendas del DataFrame\n",
    "#Agregamos la barra de la agrupación de Ventas netas\n",
    "ax.bar(venta_n.index,venta_n,0.5,label='Ventas netas')\n",
    "\n",
    "#Agregamos la barra de la agrupación de Descuento, especificando que irá arriba de Ventas Netas\n",
    "ax.bar(descuento_n.index,descuento_n,0.5,bottom=venta_n,label='Descuento')\n",
    "\n",
    "#Agregamos Titulo y Leyenda\n",
    "ax.set_title(\"Distribución Venta\") \n",
    "ax.legend(loc=\"upper left\")"
   ]
  },
  {
   "attachments": {},
   "cell_type": "markdown",
   "metadata": {},
   "source": [
    "### Regresión Lineal Simple\n"
   ]
  },
  {
   "cell_type": "code",
   "execution_count": 49,
   "metadata": {},
   "outputs": [],
   "source": [
    "#Importamos las librerias necesarias\n",
    "from sklearn.linear_model import LinearRegression\n",
    "from sklearn.model_selection import train_test_split\n",
    "from sklearn import datasets, linear_model"
   ]
  },
  {
   "cell_type": "code",
   "execution_count": 53,
   "metadata": {},
   "outputs": [
    {
     "data": {
      "text/plain": [
       "[<matplotlib.lines.Line2D at 0x1b5c670b850>]"
      ]
     },
     "execution_count": 53,
     "metadata": {},
     "output_type": "execute_result"
    },
    {
     "data": {
      "image/png": "[encoded data removed]",
      "text/plain": [
       "<Figure size 640x480 with 1 Axes>"
      ]
     },
     "metadata": {},
     "output_type": "display_data"
    }
   ],
   "source": [
    "#Declaración de una secuencia de 0 hasta 99\n",
    "x = np.arange(100)\n",
    "y=100 + x * 2 + np.random.rand(100) * 50\n",
    "#Se grafica con circulos rojos\n",
    "plt.plot(x,y,'ro')"
   ]
  },
  {
   "cell_type": "code",
   "execution_count": 65,
   "metadata": {},
   "outputs": [],
   "source": [
    "#Se declara los datos de entrenamiento y prueba\n",
    "x_train, x_test, y_train, y_test = train_test_split(x,y)"
   ]
  },
  {
   "cell_type": "code",
   "execution_count": 66,
   "metadata": {},
   "outputs": [],
   "source": [
    "#Se define el algoritmo a utilizar\n",
    "lr = linear_model.LinearRegression()"
   ]
  },
  {
   "cell_type": "code",
   "execution_count": 67,
   "metadata": {},
   "outputs": [
    {
     "data": {
      "text/html": [
       "<style>#sk-container-id-5 {color: black;background-color: white;}#sk-container-id-5 pre{padding: 0;}#sk-container-id-5 div.sk-toggleable {background-color: white;}#sk-container-id-5 label.sk-toggleable__label {cursor: pointer;display: block;width: 100%;margin-bottom: 0;padding: 0.3em;box-sizing: border-box;text-align: center;}#sk-container-id-5 label.sk-toggleable__label-arrow:before {content: \"▸\";float: left;margin-right: 0.25em;color: #696969;}#sk-container-id-5 label.sk-toggleable__label-arrow:hover:before {color: black;}#sk-container-id-5 div.sk-estimator:hover label.sk-toggleable__label-arrow:before {color: black;}#sk-container-id-5 div.sk-toggleable__content {max-height: 0;max-width: 0;overflow: hidden;text-align: left;background-color: #f0f8ff;}#sk-container-id-5 div.sk-toggleable__content pre {margin: 0.2em;color: black;border-radius: 0.25em;background-color: #f0f8ff;}#sk-container-id-5 input.sk-toggleable__control:checked~div.sk-toggleable__content {max-height: 200px;max-width: 100%;overflow: auto;}#sk-container-id-5 input.sk-toggleable__control:checked~label.sk-toggleable__label-arrow:before {content: \"▾\";}#sk-container-id-5 div.sk-estimator input.sk-toggleable__control:checked~label.sk-toggleable__label {background-color: #d4ebff;}#sk-container-id-5 div.sk-label input.sk-toggleable__control:checked~label.sk-toggleable__label {background-color: #d4ebff;}#sk-container-id-5 input.sk-hidden--visually {border: 0;clip: rect(1px 1px 1px 1px);clip: rect(1px, 1px, 1px, 1px);height: 1px;margin: -1px;overflow: hidden;padding: 0;position: absolute;width: 1px;}#sk-container-id-5 div.sk-estimator {font-family: monospace;background-color: #f0f8ff;border: 1px dotted black;border-radius: 0.25em;box-sizing: border-box;margin-bottom: 0.5em;}#sk-container-id-5 div.sk-estimator:hover {background-color: #d4ebff;}#sk-container-id-5 div.sk-parallel-item::after {content: \"\";width: 100%;border-bottom: 1px solid gray;flex-grow: 1;}#sk-container-id-5 div.sk-label:hover label.sk-toggleable__label {background-color: #d4ebff;}#sk-container-id-5 div.sk-serial::before {content: \"\";position: absolute;border-left: 1px solid gray;box-sizing: border-box;top: 0;bottom: 0;left: 50%;z-index: 0;}#sk-container-id-5 div.sk-serial {display: flex;flex-direction: column;align-items: center;background-color: white;padding-right: 0.2em;padding-left: 0.2em;position: relative;}#sk-container-id-5 div.sk-item {position: relative;z-index: 1;}#sk-container-id-5 div.sk-parallel {display: flex;align-items: stretch;justify-content: center;background-color: white;position: relative;}#sk-container-id-5 div.sk-item::before, #sk-container-id-5 div.sk-parallel-item::before {content: \"\";position: absolute;border-left: 1px solid gray;box-sizing: border-box;top: 0;bottom: 0;left: 50%;z-index: -1;}#sk-container-id-5 div.sk-parallel-item {display: flex;flex-direction: column;z-index: 1;position: relative;background-color: white;}#sk-container-id-5 div.sk-parallel-item:first-child::after {align-self: flex-end;width: 50%;}#sk-container-id-5 div.sk-parallel-item:last-child::after {align-self: flex-start;width: 50%;}#sk-container-id-5 div.sk-parallel-item:only-child::after {width: 0;}#sk-container-id-5 div.sk-dashed-wrapped {border: 1px dashed gray;margin: 0 0.4em 0.5em 0.4em;box-sizing: border-box;padding-bottom: 0.4em;background-color: white;}#sk-container-id-5 div.sk-label label {font-family: monospace;font-weight: bold;display: inline-block;line-height: 1.2em;}#sk-container-id-5 div.sk-label-container {text-align: center;}#sk-container-id-5 div.sk-container {/* jupyter's `normalize.less` sets `[hidden] { display: none; }` but bootstrap.min.css set `[hidden] { display: none !important; }` so we also need the `!important` here to be able to override the default hidden behavior on the sphinx rendered scikit-learn.org. See: https://github.com/scikit-learn/scikit-learn/issues/21755 */display: inline-block !important;position: relative;}#sk-container-id-5 div.sk-text-repr-fallback {display: none;}</style><div id=\"sk-container-id-5\" class=\"sk-top-container\"><div class=\"sk-text-repr-fallback\"><pre>LinearRegression()</pre><b>In a Jupyter environment, please rerun this cell to show the HTML representation or trust the notebook. <br />On GitHub, the HTML representation is unable to render, please try loading this page with nbviewer.org.</b></div><div class=\"sk-container\" hidden><div class=\"sk-item\"><div class=\"sk-estimator sk-toggleable\"><input class=\"sk-toggleable__control sk-hidden--visually\" id=\"sk-estimator-id-5\" type=\"checkbox\" checked><label for=\"sk-estimator-id-5\" class=\"sk-toggleable__label sk-toggleable__label-arrow\">LinearRegression</label><div class=\"sk-toggleable__content\"><pre>LinearRegression()</pre></div></div></div></div></div>"
      ],
      "text/plain": [
       "LinearRegression()"
      ]
     },
     "execution_count": 67,
     "metadata": {},
     "output_type": "execute_result"
    }
   ],
   "source": [
    "#Se entrena al modelo, reshape para que solo sea una matriz de una sola columna\n",
    "lr.fit(x_train.reshape(-1,1),y_train)"
   ]
  },
  {
   "cell_type": "code",
   "execution_count": 68,
   "metadata": {},
   "outputs": [],
   "source": [
    "#Se realiza una predicción\n",
    "y_pred=lr.predict(x_test.reshape(-1,1))"
   ]
  },
  {
   "cell_type": "code",
   "execution_count": 69,
   "metadata": {},
   "outputs": [
    {
     "data": {
      "image/png": "[encoded data removed]",
      "text/plain": [
       "<Figure size 640x480 with 1 Axes>"
      ]
     },
     "metadata": {},
     "output_type": "display_data"
    }
   ],
   "source": [
    "#Graficamos los datos junto al modelo\n",
    "plt.scatter(x_test,y_test)\n",
    "plt.plot(x_test,y_pred,color='red',linewidth=3)\n",
    "plt.title('Regresion Lineal Simple')\n",
    "plt.xlabel('Valores de X')\n",
    "plt.ylabel('Valores de Y')\n",
    "plt.show()"
   ]
  },
  {
   "cell_type": "code",
   "execution_count": 70,
   "metadata": {},
   "outputs": [
    {
     "name": "stdout",
     "output_type": "stream",
     "text": [
      "[1.99023721]\n"
     ]
    }
   ],
   "source": [
    "#Valor de la pendiente\n",
    "print(lr.coef_)"
   ]
  },
  {
   "cell_type": "code",
   "execution_count": 71,
   "metadata": {},
   "outputs": [
    {
     "name": "stdout",
     "output_type": "stream",
     "text": [
      "125.24065053187192\n"
     ]
    }
   ],
   "source": [
    "#Valor de la intersección\n",
    "print(lr.intercept_)"
   ]
  },
  {
   "cell_type": "code",
   "execution_count": 72,
   "metadata": {},
   "outputs": [
    {
     "name": "stdout",
     "output_type": "stream",
     "text": [
      "y= [1.99023721] x + 125.24065053187192\n"
     ]
    }
   ],
   "source": [
    "#La ecuación del modelo \n",
    "print('y=',lr.coef_,'x +',lr.intercept_)"
   ]
  },
  {
   "cell_type": "code",
   "execution_count": 73,
   "metadata": {},
   "outputs": [
    {
     "name": "stdout",
     "output_type": "stream",
     "text": [
      "0.9478263388105321\n"
     ]
    }
   ],
   "source": [
    "#Precisión del modelo\n",
    "print(lr.score(x_train.reshape(-1,1),y_train))"
   ]
  }
 ],
 "metadata": {
  "kernelspec": {
   "display_name": "Python 3",
   "language": "python",
   "name": "python3"
  },
  "language_info": {
   "codemirror_mode": {
    "name": "ipython",
    "version": 3
   },
   "file_extension": ".py",
   "mimetype": "text/x-python",
   "name": "python",
   "nbconvert_exporter": "python",
   "pygments_lexer": "ipython3",
   "version": "3.10.4"
  },
  "orig_nbformat": 4
 },
 "nbformat": 4,
 "nbformat_minor": 2
}
